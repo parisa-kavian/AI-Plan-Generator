{
  "nbformat": 4,
  "nbformat_minor": 0,
  "metadata": {
    "colab": {
      "provenance": [],
      "authorship_tag": "ABX9TyMS4oGSFCrx3UKenLotG/4W",
      "include_colab_link": true
    },
    "kernelspec": {
      "name": "python3",
      "display_name": "Python 3"
    },
    "language_info": {
      "name": "python"
    }
  },
  "cells": [
    {
      "cell_type": "markdown",
      "metadata": {
        "id": "view-in-github",
        "colab_type": "text"
      },
      "source": [
        "<a href=\"https://colab.research.google.com/github/parisa-kavian/AI-Plan-Generator/blob/main/main.ipynb\" target=\"_parent\"><img src=\"https://colab.research.google.com/assets/colab-badge.svg\" alt=\"Open In Colab\"/></a>"
      ]
    },
    {
      "cell_type": "code",
      "source": [
        "%%capture\n",
        "!pip install langchain openai langchain_community"
      ],
      "metadata": {
        "id": "zhW0sSjJ-1Ty"
      },
      "execution_count": 2,
      "outputs": []
    },
    {
      "cell_type": "code",
      "source": [
        "import os\n",
        "\n",
        "os.environ['OPENAI_API_KEY'] = \"sk-proj-G4OwU0k5Czohsr6kFmwrZDOIq45oy3Zm2K9PBA-####\""
      ],
      "metadata": {
        "id": "3lOWKB9l-y4k"
      },
      "execution_count": 3,
      "outputs": []
    },
    {
      "cell_type": "code",
      "execution_count": 4,
      "metadata": {
        "colab": {
          "base_uri": "https://localhost:8080/"
        },
        "id": "OmpxvuwY-U6p",
        "outputId": "6d4f7ee0-ff69-4361-da86-db7808682482"
      },
      "outputs": [
        {
          "metadata": {
            "tags": null
          },
          "name": "stderr",
          "output_type": "stream",
          "text": [
            "/tmp/ipython-input-194180574.py:54: LangChainDeprecationWarning: The class `ChatOpenAI` was deprecated in LangChain 0.0.10 and will be removed in 1.0. An updated version of the class exists in the :class:`~langchain-openai package and should be used instead. To use it run `pip install -U :class:`~langchain-openai` and import as `from :class:`~langchain_openai import ChatOpenAI``.\n",
            "  llm = ChatOpenAI(temperature=0.7, model=\"gpt-3.5-turbo\")\n",
            "/tmp/ipython-input-194180574.py:55: LangChainDeprecationWarning: Please see the migration guide at: https://python.langchain.com/docs/versions/migrating_memory/\n",
            "  memory = ConversationBufferMemory()\n",
            "/tmp/ipython-input-194180574.py:56: LangChainDeprecationWarning: The class `ConversationChain` was deprecated in LangChain 0.2.7 and will be removed in 1.0. Use :class:`~langchain_core.runnables.history.RunnableWithMessageHistory` instead.\n",
            "  conversation = ConversationChain(llm=llm, memory=memory)\n"
          ]
        },
        {
          "output_type": "stream",
          "name": "stdout",
          "text": [
            "Welcome to the personalized plan generator!\n",
            "---------------------------------------\n",
            "What kind of plan do you want? (meal planning or workout plan): meal planning\n",
            "\n",
            "Generating plan...\n"
          ]
        },
        {
          "output_type": "stream",
          "name": "stderr",
          "text": [
            "/tmp/ipython-input-194180574.py:62: LangChainDeprecationWarning: The method `Chain.run` was deprecated in langchain 0.1.0 and will be removed in 1.0. Use :meth:`~invoke` instead.\n",
            "  return conversation.run(prompt)\n"
          ]
        },
        {
          "output_type": "stream",
          "name": "stdout",
          "text": [
            "\n",
            "--- Generated Plan ---\n",
            "Certainly! Here is a detailed day-by-day meal planning plan for a 29-year-old woman with the provided profile:\n",
            "\n",
            "Day 1:\n",
            "- Breakfast: Greek yogurt with mixed berries and almonds\n",
            "- Snack: Carrot sticks with hummus\n",
            "- Lunch: Quinoa salad with grilled chicken and avocado\n",
            "- Snack: Apple slices with peanut butter\n",
            "- Dinner: Baked salmon with roasted vegetables\n",
            "- Dessert: Dark chocolate squares\n",
            "\n",
            "Day 2:\n",
            "- Breakfast: Oatmeal with sliced bananas and walnuts\n",
            "- Snack: Greek yogurt with honey\n",
            "- Lunch: Whole grain wrap with turkey, lettuce, tomato, and avocado\n",
            "- Snack: Mixed nuts\n",
            "- Dinner: Stir-fried tofu with broccoli and brown rice\n",
            "- Dessert: Fresh fruit salad\n",
            "\n",
            "Day 3:\n",
            "- Breakfast: Whole grain toast with avocado and poached eggs\n",
            "- Snack: Cottage cheese with pineapple chunks\n",
            "- Lunch: Lentil soup with a side of quinoa\n",
            "- Snack: Rice cakes with almond butter\n",
            "- Dinner: Grilled shrimp with zucchini noodles\n",
            "- Dessert: Chia seed pudding with berries\n",
            "\n",
            "Day 4:\n",
            "- Breakfast: Smoothie with spinach, banana, almond milk, and protein powder\n",
            "- Snack: Mixed berries\n",
            "- Lunch: Chickpea salad with cherry tomatoes and feta cheese\n",
            "- Snack: Popcorn\n",
            "- Dinner: Baked chicken with sweet potato fries\n",
            "- Dessert: Frozen yogurt with granola\n",
            "\n",
            "Day 5:\n",
            "- Breakfast: Scrambled eggs with spinach and whole grain toast\n",
            "- Snack: Edamame\n",
            "- Lunch: Turkey and avocado wrap with a side of quinoa salad\n",
            "- Snack: Rice cakes with hummus\n",
            "- Dinner: Beef stir-fry with bell peppers and brown rice\n",
            "- Dessert: Apple slices with cinnamon\n",
            "\n",
            "Day 6:\n",
            "- Breakfast: Chia seed pudding with sliced peaches\n",
            "- Snack: Greek yogurt with mixed nuts\n",
            "- Lunch: Grilled vegetable and quinoa salad\n",
            "- Snack: Cottage cheese with berries\n",
            "- Dinner: Baked cod with asparagus and quinoa\n",
            "- Dessert: Dark chocolate almond clusters\n",
            "\n",
            "I hope this meal planning plan meets the requirements and helps maintain the woman's health while providing variety and nutrition. Let me know if you need any adjustments or further details!\n"
          ]
        }
      ],
      "source": [
        "from langchain.chat_models import ChatOpenAI\n",
        "from langchain.chains import ConversationChain\n",
        "from langchain.memory import ConversationBufferMemory\n",
        "from pydantic import BaseModel, PositiveInt, PositiveFloat, field_validator\n",
        "\n",
        "# User Information\n",
        "class UserProfile(BaseModel):\n",
        "    age: PositiveInt\n",
        "    gender: str\n",
        "    weight: PositiveFloat  # kg\n",
        "    height: PositiveFloat  # cm\n",
        "    freetime: PositiveInt  # minutes per day\n",
        "    goal: str\n",
        "    activity_level: str\n",
        "    dietary_preferences: str = None  # Optional\n",
        "\n",
        "    @field_validator(\"gender\")\n",
        "    @classmethod\n",
        "    def validate_gender(cls, v: str) -> str:\n",
        "        if v.lower() not in [\"man\", \"woman\", \"non-binary\", \"other\"]:\n",
        "            raise ValueError(\"Gender must be valid\")\n",
        "        return v.lower()\n",
        "\n",
        "    def bmi(self):\n",
        "        return round(self.weight / ((self.height / 100) ** 2), 1)\n",
        "\n",
        "    def bmr(self):\n",
        "        if self.gender == \"man\":\n",
        "            return round(10 * self.weight + 6.25 * self.height - 5 * self.age + 5, 1)\n",
        "        elif self.gender == \"woman\":\n",
        "            return round(10 * self.weight + 6.25 * self.height - 5 * self.age - 161, 1)\n",
        "        else:\n",
        "            return round(10 * self.weight + 6.25 * self.height - 5 * self.age, 1)\n",
        "\n",
        "\n",
        "# Plan\n",
        "def create_prompt(profile: UserProfile, task: str) -> str:\n",
        "    \"\"\"Creates the prompt based on the user's complete profile and a specified task.\"\"\"\n",
        "    dietary_info = f\"Dietary preferences: {profile.dietary_preferences}\\n\" if profile.dietary_preferences else \"\"\n",
        "\n",
        "    return f\"\"\"\n",
        "You are a professional expert in {task}.\n",
        "Create a weekly {task} plan for a {profile.age}-year-old {profile.gender} with the following profile:\n",
        "Weight: {profile.weight} kg | Height: {profile.height} cm | BMI: {profile.bmi()} | BMR: {profile.bmr()}\n",
        "Activity Level: {profile.activity_level}\n",
        "Daily free time: {profile.freetime} minutes\n",
        "Goal: {profile.goal}\n",
        "{dietary_info}\n",
        "Provide a detailed day-by-day plan for 6 days.\n",
        "\"\"\"\n",
        "\n",
        "\n",
        "# LLM setup\n",
        "llm = ChatOpenAI(temperature=0.7, model=\"gpt-3.5-turbo\")\n",
        "memory = ConversationBufferMemory()\n",
        "conversation = ConversationChain(llm=llm, memory=memory)\n",
        "\n",
        "\n",
        "def generate_plan(profile: UserProfile, task: str) -> str:\n",
        "    \"\"\"Generates the plan using the prompt and the language model.\"\"\"\n",
        "    prompt = create_prompt(profile, task)\n",
        "    return conversation.run(prompt)\n",
        "\n",
        "\n",
        "# Interactive Program\n",
        "if __name__ == \"__main__\":\n",
        "\n",
        "    print(\"Welcome to the personalized plan generator!\")\n",
        "    print(\"---------------------------------------\")\n",
        "\n",
        "    # Get user information\n",
        "    try:\n",
        "        age = int(input(\"Please enter your age: \"))\n",
        "        gender = input(\"Please enter your gender (man/woman): \")\n",
        "        weight = float(input(\"Please enter your weight (in kg): \"))\n",
        "        height = float(input(\"Please enter your height (in cm): \"))\n",
        "        freetime = int(input(\"Please enter your daily free time for exercise (in minutes): \"))\n",
        "        goal = input(\"Please enter your goal (e.g., build muscle, lose weight, maintain health): \")\n",
        "        activity_level = input(\"Please enter your activity level (e.g., sedentary, lightly active, active): \")\n",
        "        dietary_preferences = input(\"Enter your dietary preferences or restrictions (optional, e.g., vegetarian): \") or None\n",
        "\n",
        "        user = UserProfile(\n",
        "            age=age,\n",
        "            gender=gender,\n",
        "            weight=weight,\n",
        "            height=height,\n",
        "            freetime=freetime,\n",
        "            goal=goal,\n",
        "            activity_level=activity_level,\n",
        "            dietary_preferences=dietary_preferences\n",
        "        )\n",
        "\n",
        "        # Choose the type of plan\n",
        "        task_choice = input(\"What kind of plan do you want? (meal planning or workout plan): \")\n",
        "\n",
        "        if task_choice.lower() not in [\"meal planning\", \"workout plan\"]:\n",
        "            print(\"Invalid choice. The program will default to 'meal planning'.\")\n",
        "            task = \"meal planning\"\n",
        "        else:\n",
        "            task = task_choice\n",
        "\n",
        "        print(\"\\nGenerating plan...\")\n",
        "\n",
        "        plan = generate_plan(user, task=task)\n",
        "        print(\"\\n--- Generated Plan ---\")\n",
        "        print(plan)\n",
        "\n",
        "    except ValueError as e:\n",
        "        print(f\"Invalid input: {e}. Please make sure you enter numbers for age, weight, height, and freetime.\")\n",
        "    except Exception as e:\n",
        "        print(f\"An error occurred: {e}\")\n",
        "        print(\"Please ensure your API key is correct and your internet connection is stable.\")"
      ]
    }
  ]
}